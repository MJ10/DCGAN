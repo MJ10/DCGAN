{
 "cells": [
  {
   "cell_type": "code",
   "execution_count": 1,
   "metadata": {
    "collapsed": true
   },
   "outputs": [],
   "source": [
    "import tensorflow as tf\n",
    "import numpy as np\n",
    "import pandas as pd\n",
    "import matplotlib.pyplot as plot\n",
    "import matplotlib"
   ]
  },
  {
   "cell_type": "code",
   "execution_count": 2,
   "metadata": {
    "collapsed": true
   },
   "outputs": [],
   "source": [
    "IMAGE_SIZE = 28\n",
    "BATCH_SIZE = 50\n",
    "NUM_ITERATIONS = 3000\n",
    "CONVOLUTION_DEPTH = 32\n",
    "LEARNING_RATE = 0.0002"
   ]
  },
  {
   "cell_type": "code",
   "execution_count": 3,
   "metadata": {
    "collapsed": true
   },
   "outputs": [],
   "source": [
    "data = pd.read_csv('train.csv')\n",
    "data = data.drop('label', axis=1)\n",
    "data = data.as_matrix() / 255.0"
   ]
  },
  {
   "cell_type": "code",
   "execution_count": 4,
   "metadata": {
    "collapsed": true
   },
   "outputs": [],
   "source": [
    "# helper functions\n",
    "def display_image(image):\n",
    "    image = image.reshape(IMAGE_SIZE, IMAGE_SIZE)\n",
    "    plot.axis('off')\n",
    "    plot.imshow(image, cmap=matplotlib.cm.binary)\n",
    "    plot.show()\n",
    "    \n",
    "    \n",
    "def get_sample_z(size=(1, 100)):\n",
    "    return np.random.normal(size=size)\n",
    "\n",
    "# Loading next batch\n",
    "epochs_completed = 0\n",
    "index_in_epoch = 0\n",
    "num_examples = data.shape[0]\n",
    "\n",
    "\n",
    "def next_batch(batch_size):\n",
    "    global data\n",
    "    global index_in_epoch\n",
    "    global epochs_completed\n",
    "    \n",
    "    start = index_in_epoch\n",
    "    index_in_epoch += batch_size\n",
    "    \n",
    "    if index_in_epoch > num_examples:\n",
    "        # finished epoch\n",
    "        epochs_completed += 1\n",
    "        # shuffle the data\n",
    "        perm = np.arange(num_examples)\n",
    "        np.random.shuffle(perm)\n",
    "        data = data[perm]\n",
    "        # start next epoch\n",
    "        start = 0\n",
    "        index_in_epoch = batch_size\n",
    "        assert batch_size <= num_examples\n",
    "    end = index_in_epoch\n",
    "    return data[start:end]"
   ]
  },
  {
   "cell_type": "code",
   "execution_count": 5,
   "metadata": {
    "collapsed": true
   },
   "outputs": [],
   "source": [
    "def generator(z, batch_size, reuse=False):\n",
    "    with tf.variable_scope('generator', reuse=reuse):\n",
    "#         h0 = tf.layers.dense(inputs=z,\n",
    "#                              units=CONVOLUTION_DEPTH * 2 * 2 * 8)\n",
    "#         h0 = tf.reshape(h0, [batch_size, 2, 2, CONVOLUTION_DEPTH * 8])\n",
    "#         h0 = tf.contrib.layers.batch_norm(h0,\n",
    "#                                           decay=0.9,\n",
    "#                                           scale=True,\n",
    "#                                           is_training=True,\n",
    "#                                           epsilon=1e-5)\n",
    "#         h0 = tf.nn.relu(h0)\n",
    "\n",
    "#         g_w1 = tf.get_variable('g_w1', [5, 5, CONVOLUTION_DEPTH * 4 , CONVOLUTION_DEPTH * 8],\n",
    "#                                dtype=tf.float32,\n",
    "#                                initializer=tf.random_normal_initializer(stddev=0.02))\n",
    "#         g_b1 = tf.get_variable('g_b1', [CONVOLUTION_DEPTH * 4],\n",
    "#                                initializer=tf.random_normal_initializer(stddev=0.02))\n",
    "#         h1 = tf.nn.conv2d_transpose(h0,\n",
    "#                                     g_w1,\n",
    "#                                     strides=[1, 2, 2, 1],\n",
    "#                                     output_shape=[batch_size, 4, 4, CONVOLUTION_DEPTH * 4])\n",
    "#         h1 = h1 + g_b1\n",
    "#         h1 = tf.contrib.layers.batch_norm(h1,\n",
    "#                                           decay=0.9,\n",
    "#                                           scale=True,\n",
    "#                                           is_training=True,\n",
    "#                                           epsilon=1e-5)\n",
    "#         h1 = tf.nn.relu(h1)\n",
    "\n",
    "#         g_w2 = tf.get_variable('g_w2',\n",
    "#                                [5, 5, CONVOLUTION_DEPTH * 2, CONVOLUTION_DEPTH * 4],\n",
    "#                                dtype=tf.float32,\n",
    "#                                initializer=tf.random_normal_initializer(stddev=0.02))\n",
    "#         g_b2 = tf.get_variable('g_b2', [CONVOLUTION_DEPTH * 2],\n",
    "#                                initializer=tf.random_normal_initializer(stddev=0.02))\n",
    "#         h2 = tf.nn.conv2d_transpose(h1,\n",
    "#                                     g_w2,\n",
    "#                                     output_shape=[batch_size, 7, 7, CONVOLUTION_DEPTH * 2],\n",
    "#                                     strides=[1, 2, 2, 1])\n",
    "#         h2 = h2 + g_b2\n",
    "\n",
    "#         h2 = tf.contrib.layers.batch_norm(h2,\n",
    "#                                           decay=0.9,\n",
    "#                                           scale=True,\n",
    "#                                           is_training=True,\n",
    "#                                           epsilon=1e-5)\n",
    "#         h2 = tf.nn.relu(h2)\n",
    "\n",
    "#         g_w3 = tf.get_variable('g_w3',\n",
    "#                                [5, 5, CONVOLUTION_DEPTH * 1, CONVOLUTION_DEPTH * 2],\n",
    "#                                dtype=tf.float32,\n",
    "#                                initializer=tf.random_normal_initializer(stddev=0.02))\n",
    "#         g_b3 = tf.get_variable('g_b3', [CONVOLUTION_DEPTH * 1],\n",
    "#                                initializer=tf.random_normal_initializer(stddev=0.02))\n",
    "#         h3 = tf.nn.conv2d_transpose(h2,\n",
    "#                                     g_w3,\n",
    "#                                     output_shape=[batch_size, 14, 14, CONVOLUTION_DEPTH * 1],\n",
    "#                                     strides=[1, 2, 2, 1])\n",
    "#         h3 = h3 + g_b3\n",
    "\n",
    "#         h3 = tf.contrib.layers.batch_norm(h3,\n",
    "#                                           decay=0.9,\n",
    "#                                           scale=True,\n",
    "#                                           is_training=True,\n",
    "#                                           epsilon=1e-5)\n",
    "#         h3 = tf.nn.relu(h3)\n",
    "\n",
    "#         g_w4 = tf.get_variable('g_w4',\n",
    "#                                [5, 5, 1, CONVOLUTION_DEPTH * 1],\n",
    "#                                dtype=tf.float32,\n",
    "#                                initializer=tf.random_normal_initializer(stddev=0.02))\n",
    "#         g_b4 = tf.get_variable('g_b4', [1],\n",
    "#                                initializer=tf.random_normal_initializer(stddev=0.02))\n",
    "#         h4 = tf.nn.conv2d_transpose(h3,\n",
    "#                                     g_w4,\n",
    "#                                     output_shape=[batch_size, 28, 28, 1],\n",
    "#                                     strides=[1, 2, 2, 1])\n",
    "#         h4 = h4 + g_b4\n",
    "\n",
    "#         return tf.nn.tanh(h4)\n",
    "    g_w1 = tf.get_variable('g_w1', [100, 3136], dtype=tf.float32, initializer=tf.truncated_normal_initializer(stddev=0.02))\n",
    "    g_b1 = tf.get_variable('g_b1', [3136], initializer=tf.truncated_normal_initializer(stddev=0.02))\n",
    "    g1 = tf.matmul(z, g_w1) + g_b1\n",
    "    g1 = tf.reshape(g1, [-1, 56, 56, 1])\n",
    "    g1 = tf.contrib.layers.batch_norm(g1, epsilon=1e-5, scope='bn1')\n",
    "    g1 = tf.nn.relu(g1)\n",
    "\n",
    "    # Generate 50 features\n",
    "    g_w2 = tf.get_variable('g_w2', [3, 3, 1, 100/2], dtype=tf.float32, initializer=tf.truncated_normal_initializer(stddev=0.02))\n",
    "    g_b2 = tf.get_variable('g_b2', [100/2], initializer=tf.truncated_normal_initializer(stddev=0.02))\n",
    "    g2 = tf.nn.conv2d(g1, g_w2, strides=[1, 2, 2, 1], padding='SAME')\n",
    "    g2 = g2 + g_b2\n",
    "    g2 = tf.contrib.layers.batch_norm(g2, epsilon=1e-5, scope='bn2')\n",
    "    g2 = tf.nn.relu(g2)\n",
    "    g2 = tf.image.resize_images(g2, [56, 56])\n",
    "\n",
    "    # Generate 25 features\n",
    "    g_w3 = tf.get_variable('g_w3', [3, 3, 100/2, 100/4], dtype=tf.float32, initializer=tf.truncated_normal_initializer(stddev=0.02))\n",
    "    g_b3 = tf.get_variable('g_b3', [100/4], initializer=tf.truncated_normal_initializer(stddev=0.02))\n",
    "    g3 = tf.nn.conv2d(g2, g_w3, strides=[1, 2, 2, 1], padding='SAME')\n",
    "    g3 = g3 + g_b3\n",
    "    g3 = tf.contrib.layers.batch_norm(g3, epsilon=1e-5, scope='bn3')\n",
    "    g3 = tf.nn.relu(g3)\n",
    "    g3 = tf.image.resize_images(g3, [56, 56])\n",
    "\n",
    "    # Final convolution with one output channel\n",
    "    g_w4 = tf.get_variable('g_w4', [1, 1, 100/4, 1], dtype=tf.float32, initializer=tf.truncated_normal_initializer(stddev=0.02))\n",
    "    g_b4 = tf.get_variable('g_b4', [1], initializer=tf.truncated_normal_initializer(stddev=0.02))\n",
    "    g4 = tf.nn.conv2d(g3, g_w4, strides=[1, 2, 2, 1], padding='SAME')\n",
    "    g4 = g4 + g_b4\n",
    "    g4 = tf.sigmoid(g4)\n",
    "\n",
    "    # No batch normalization at the final layer, but we do add\n",
    "    # a sigmoid activator to make the generated images crisper.\n",
    "    # Dimensions of g4: batch_size x 28 x 28 x 1\n",
    "\n",
    "    return g4"
   ]
  },
  {
   "cell_type": "code",
   "execution_count": 6,
   "metadata": {
    "collapsed": true
   },
   "outputs": [],
   "source": [
    "def discriminator(image, reuse=False):\n",
    "    with tf.variable_scope('discriminator', reuse=reuse):\n",
    "        image = tf.reshape(image, [-1, 28, 28, 1])\n",
    "        h0 = tf.layers.conv2d(inputs=image,\n",
    "                              kernel_size=[5, 5],\n",
    "                              filters=CONVOLUTION_DEPTH,\n",
    "                              strides=(2, 2),\n",
    "                              padding='SAME')\n",
    "        h0 = tf.maximum(h0, 0.2*h0)\n",
    "\n",
    "        h1 = tf.layers.conv2d(inputs=h0,\n",
    "                              kernel_size=[5, 5],\n",
    "                              filters=2*CONVOLUTION_DEPTH,\n",
    "                              strides=(2, 2),\n",
    "                              padding='SAME')\n",
    "        h1 = tf.contrib.layers.batch_norm(h1,\n",
    "                                          decay=0.9,\n",
    "                                          scale=True,\n",
    "                                          is_training=True,\n",
    "                                          epsilon=1e-5)\n",
    "        h1 = tf.maximum(h1, 0.2*h1)\n",
    "\n",
    "        h2 = tf.layers.conv2d(inputs=h1,\n",
    "                              kernel_size=[5, 5],\n",
    "                              filters=4 * CONVOLUTION_DEPTH,\n",
    "                              strides=(2, 2),\n",
    "                              padding='SAME')\n",
    "        h2 = tf.contrib.layers.batch_norm(h2,\n",
    "                                          decay=0.9,\n",
    "                                          scale=True,\n",
    "                                          is_training=True,\n",
    "                                          epsilon=1e-5)\n",
    "        h2 = tf.maximum(h2, 0.2 * h2)\n",
    "\n",
    "        h3 = tf.layers.conv2d(inputs=h2,\n",
    "                              kernel_size=[5, 5],\n",
    "                              filters=8 * CONVOLUTION_DEPTH,\n",
    "                              strides=(2, 2),\n",
    "                              padding='SAME')\n",
    "        h3 = tf.contrib.layers.batch_norm(h3,\n",
    "                                          decay=0.9,\n",
    "                                          scale=True,\n",
    "                                          is_training=True,\n",
    "                                          epsilon=1e-5)\n",
    "        h3 = tf.maximum(h3, 0.2 * h3)\n",
    "\n",
    "        h4 = tf.layers.dense(inputs=h3,\n",
    "                             units=1)\n",
    "\n",
    "        return tf.nn.sigmoid(h4), h4"
   ]
  },
  {
   "cell_type": "code",
   "execution_count": 7,
   "metadata": {},
   "outputs": [],
   "source": [
    "Z_in = tf.placeholder(tf.float32, shape=[None, 100])\n",
    "image_in = tf.placeholder(tf.float32, shape=[None,\n",
    "                                             IMAGE_SIZE * IMAGE_SIZE])\n",
    "\n",
    "gen_sample = generator(Z_in, BATCH_SIZE)\n",
    "\n",
    "discriminator_data, data_logits = discriminator(image_in)\n",
    "discriminator_model, model_logits = discriminator(gen_sample,\n",
    "                                                  reuse=True)"
   ]
  },
  {
   "cell_type": "code",
   "execution_count": 8,
   "metadata": {
    "collapsed": true
   },
   "outputs": [],
   "source": [
    "# losses\n",
    "discriminator_loss_data = tf.reduce_mean(tf.nn.sigmoid_cross_entropy_with_logits(logits=data_logits,\n",
    "                                                                                  labels=tf.zeros_like(discriminator_data)))\n",
    "\n",
    "discriminator_loss_model = tf.reduce_mean(tf.nn.sigmoid_cross_entropy_with_logits(logits=model_logits,\n",
    "                                                                                   labels=tf.ones_like(discriminator_model)))\n",
    "\n",
    "discriminator_loss = discriminator_loss_data + discriminator_loss_model\n",
    "\n",
    "generator_loss = tf.reduce_mean(tf.nn.sigmoid_cross_entropy_with_logits(logits=model_logits,\n",
    "                                                                        labels=tf.zeros_like(discriminator_model)))"
   ]
  },
  {
   "cell_type": "code",
   "execution_count": 9,
   "metadata": {
    "collapsed": true
   },
   "outputs": [],
   "source": [
    "all_vars = tf.trainable_variables()\n",
    "generator_vars = [var for var in all_vars if var.name.startswith('generator')]\n",
    "discriminator_vars = [var for var in all_vars if var.name.startswith('discriminator')]\n",
    "\n",
    "discriminator_optimize = tf.train.AdamOptimizer(LEARNING_RATE).minimize(discriminator_loss,\n",
    "                                                                        var_list=discriminator_vars)\n",
    "generator_optimize = tf.train.AdamOptimizer(LEARNING_RATE).minimize(generator_loss,\n",
    "                                                                    var_list=generator_vars)"
   ]
  },
  {
   "cell_type": "code",
   "execution_count": 10,
   "metadata": {
    "collapsed": true
   },
   "outputs": [],
   "source": [
    "init = tf.global_variables_initializer()\n",
    "sess = tf.InteractiveSession()\n",
    "\n",
    "sess.run(init)"
   ]
  },
  {
   "cell_type": "code",
   "execution_count": 12,
   "metadata": {},
   "outputs": [
    {
     "name": "stdout",
     "output_type": "stream",
     "text": [
      "Step 0 => Discriminator: 0.32762134075164795 | Generator: 1.8888195753097534\n",
      "Step 1 => Discriminator: 0.3273317217826843 | Generator: 1.9211628437042236\n",
      "Step 2 => Discriminator: 0.3025984466075897 | Generator: 1.935577392578125\n",
      "Step 3 => Discriminator: 0.29963982105255127 | Generator: 1.9508371353149414\n",
      "Step 4 => Discriminator: 0.30353492498397827 | Generator: 1.977390170097351\n",
      "Step 5 => Discriminator: 0.3106721341609955 | Generator: 1.9854775667190552\n",
      "Step 6 => Discriminator: 0.33881717920303345 | Generator: 2.001387119293213\n",
      "Step 7 => Discriminator: 0.3516162633895874 | Generator: 2.01613712310791\n",
      "Step 8 => Discriminator: 0.31664031744003296 | Generator: 2.0351204872131348\n",
      "Step 9 => Discriminator: 0.32634615898132324 | Generator: 2.06760311126709\n",
      "Step 10 => Discriminator: 0.3034484386444092 | Generator: 2.0849311351776123\n",
      "Step 11 => Discriminator: 0.2706495523452759 | Generator: 2.10007643699646\n",
      "Step 12 => Discriminator: 0.2932876944541931 | Generator: 2.114044189453125\n",
      "Step 13 => Discriminator: 0.2751888930797577 | Generator: 2.104630947113037\n",
      "Step 14 => Discriminator: 0.29725658893585205 | Generator: 2.0968689918518066\n",
      "Step 15 => Discriminator: 0.263186514377594 | Generator: 2.1018173694610596\n",
      "Step 16 => Discriminator: 0.29592740535736084 | Generator: 2.115414619445801\n",
      "Step 17 => Discriminator: 0.27545589208602905 | Generator: 2.1172211170196533\n",
      "Step 18 => Discriminator: 0.29649150371551514 | Generator: 2.1321849822998047\n",
      "Step 19 => Discriminator: 0.24866348505020142 | Generator: 2.150041103363037\n",
      "Step 20 => Discriminator: 0.26118093729019165 | Generator: 2.158303737640381\n",
      "Step 21 => Discriminator: 0.2913339138031006 | Generator: 2.160186529159546\n",
      "Step 22 => Discriminator: 0.26713237166404724 | Generator: 2.1523048877716064\n",
      "Step 23 => Discriminator: 0.24086149036884308 | Generator: 2.1504147052764893\n",
      "Step 24 => Discriminator: 0.25537538528442383 | Generator: 2.148169755935669\n",
      "Step 25 => Discriminator: 0.2527765929698944 | Generator: 2.161813735961914\n",
      "Step 26 => Discriminator: 0.27474337816238403 | Generator: 2.162980794906616\n",
      "Step 27 => Discriminator: 0.2476758062839508 | Generator: 2.1705944538116455\n",
      "Step 28 => Discriminator: 0.24593615531921387 | Generator: 2.1858737468719482\n",
      "Step 29 => Discriminator: 0.2373318374156952 | Generator: 2.1731488704681396\n",
      "Step 30 => Discriminator: 0.24862751364707947 | Generator: 2.175992250442505\n",
      "Step 31 => Discriminator: 0.2414996325969696 | Generator: 2.180511713027954\n",
      "Step 32 => Discriminator: 0.265366792678833 | Generator: 2.174971342086792\n",
      "Step 33 => Discriminator: 0.22949421405792236 | Generator: 2.1800293922424316\n",
      "Step 34 => Discriminator: 0.22557571530342102 | Generator: 2.191526174545288\n",
      "Step 35 => Discriminator: 0.23707690834999084 | Generator: 2.1952273845672607\n",
      "Step 36 => Discriminator: 0.2439427375793457 | Generator: 2.194314479827881\n"
     ]
    },
    {
     "ename": "KeyboardInterrupt",
     "evalue": "",
     "output_type": "error",
     "traceback": [
      "\u001b[0;31m---------------------------------------------------------------------------\u001b[0m",
      "\u001b[0;31mKeyboardInterrupt\u001b[0m                         Traceback (most recent call last)",
      "\u001b[0;32m<ipython-input-12-000d23d06599>\u001b[0m in \u001b[0;36m<module>\u001b[0;34m()\u001b[0m\n\u001b[1;32m      1\u001b[0m \u001b[0;32mfor\u001b[0m \u001b[0mi\u001b[0m \u001b[0;32min\u001b[0m \u001b[0mrange\u001b[0m\u001b[0;34m(\u001b[0m\u001b[0mNUM_ITERATIONS\u001b[0m\u001b[0;34m)\u001b[0m\u001b[0;34m:\u001b[0m\u001b[0;34m\u001b[0m\u001b[0m\n\u001b[1;32m      2\u001b[0m     \u001b[0mimage_batch\u001b[0m \u001b[0;34m=\u001b[0m \u001b[0mnext_batch\u001b[0m\u001b[0;34m(\u001b[0m\u001b[0mBATCH_SIZE\u001b[0m\u001b[0;34m)\u001b[0m\u001b[0;34m\u001b[0m\u001b[0m\n\u001b[0;32m----> 3\u001b[0;31m     \u001b[0msess\u001b[0m\u001b[0;34m.\u001b[0m\u001b[0mrun\u001b[0m\u001b[0;34m(\u001b[0m\u001b[0mdiscriminator_optimize\u001b[0m\u001b[0;34m,\u001b[0m \u001b[0mfeed_dict\u001b[0m\u001b[0;34m=\u001b[0m\u001b[0;34m{\u001b[0m\u001b[0mZ_in\u001b[0m\u001b[0;34m:\u001b[0m \u001b[0mget_sample_z\u001b[0m\u001b[0;34m(\u001b[0m\u001b[0;34m[\u001b[0m\u001b[0mBATCH_SIZE\u001b[0m\u001b[0;34m,\u001b[0m \u001b[0;36m100\u001b[0m\u001b[0;34m]\u001b[0m\u001b[0;34m)\u001b[0m\u001b[0;34m,\u001b[0m \u001b[0mimage_in\u001b[0m\u001b[0;34m:\u001b[0m \u001b[0mimage_batch\u001b[0m\u001b[0;34m}\u001b[0m\u001b[0;34m)\u001b[0m\u001b[0;34m\u001b[0m\u001b[0m\n\u001b[0m\u001b[1;32m      4\u001b[0m     \u001b[0msess\u001b[0m\u001b[0;34m.\u001b[0m\u001b[0mrun\u001b[0m\u001b[0;34m(\u001b[0m\u001b[0mgenerator_optimize\u001b[0m\u001b[0;34m,\u001b[0m \u001b[0mfeed_dict\u001b[0m\u001b[0;34m=\u001b[0m\u001b[0;34m{\u001b[0m\u001b[0mZ_in\u001b[0m\u001b[0;34m:\u001b[0m \u001b[0mget_sample_z\u001b[0m\u001b[0;34m(\u001b[0m\u001b[0;34m[\u001b[0m\u001b[0mBATCH_SIZE\u001b[0m\u001b[0;34m,\u001b[0m \u001b[0;36m100\u001b[0m\u001b[0;34m]\u001b[0m\u001b[0;34m)\u001b[0m\u001b[0;34m}\u001b[0m\u001b[0;34m)\u001b[0m\u001b[0;34m\u001b[0m\u001b[0m\n\u001b[1;32m      5\u001b[0m \u001b[0;34m\u001b[0m\u001b[0m\n",
      "\u001b[0;32m/home/moksh/.local/lib/python3.5/site-packages/tensorflow/python/client/session.py\u001b[0m in \u001b[0;36mrun\u001b[0;34m(self, fetches, feed_dict, options, run_metadata)\u001b[0m\n\u001b[1;32m    893\u001b[0m     \u001b[0;32mtry\u001b[0m\u001b[0;34m:\u001b[0m\u001b[0;34m\u001b[0m\u001b[0m\n\u001b[1;32m    894\u001b[0m       result = self._run(None, fetches, feed_dict, options_ptr,\n\u001b[0;32m--> 895\u001b[0;31m                          run_metadata_ptr)\n\u001b[0m\u001b[1;32m    896\u001b[0m       \u001b[0;32mif\u001b[0m \u001b[0mrun_metadata\u001b[0m\u001b[0;34m:\u001b[0m\u001b[0;34m\u001b[0m\u001b[0m\n\u001b[1;32m    897\u001b[0m         \u001b[0mproto_data\u001b[0m \u001b[0;34m=\u001b[0m \u001b[0mtf_session\u001b[0m\u001b[0;34m.\u001b[0m\u001b[0mTF_GetBuffer\u001b[0m\u001b[0;34m(\u001b[0m\u001b[0mrun_metadata_ptr\u001b[0m\u001b[0;34m)\u001b[0m\u001b[0;34m\u001b[0m\u001b[0m\n",
      "\u001b[0;32m/home/moksh/.local/lib/python3.5/site-packages/tensorflow/python/client/session.py\u001b[0m in \u001b[0;36m_run\u001b[0;34m(self, handle, fetches, feed_dict, options, run_metadata)\u001b[0m\n\u001b[1;32m   1122\u001b[0m     \u001b[0;32mif\u001b[0m \u001b[0mfinal_fetches\u001b[0m \u001b[0;32mor\u001b[0m \u001b[0mfinal_targets\u001b[0m \u001b[0;32mor\u001b[0m \u001b[0;34m(\u001b[0m\u001b[0mhandle\u001b[0m \u001b[0;32mand\u001b[0m \u001b[0mfeed_dict_tensor\u001b[0m\u001b[0;34m)\u001b[0m\u001b[0;34m:\u001b[0m\u001b[0;34m\u001b[0m\u001b[0m\n\u001b[1;32m   1123\u001b[0m       results = self._do_run(handle, final_targets, final_fetches,\n\u001b[0;32m-> 1124\u001b[0;31m                              feed_dict_tensor, options, run_metadata)\n\u001b[0m\u001b[1;32m   1125\u001b[0m     \u001b[0;32melse\u001b[0m\u001b[0;34m:\u001b[0m\u001b[0;34m\u001b[0m\u001b[0m\n\u001b[1;32m   1126\u001b[0m       \u001b[0mresults\u001b[0m \u001b[0;34m=\u001b[0m \u001b[0;34m[\u001b[0m\u001b[0;34m]\u001b[0m\u001b[0;34m\u001b[0m\u001b[0m\n",
      "\u001b[0;32m/home/moksh/.local/lib/python3.5/site-packages/tensorflow/python/client/session.py\u001b[0m in \u001b[0;36m_do_run\u001b[0;34m(self, handle, target_list, fetch_list, feed_dict, options, run_metadata)\u001b[0m\n\u001b[1;32m   1319\u001b[0m     \u001b[0;32mif\u001b[0m \u001b[0mhandle\u001b[0m \u001b[0;32mis\u001b[0m \u001b[0;32mNone\u001b[0m\u001b[0;34m:\u001b[0m\u001b[0;34m\u001b[0m\u001b[0m\n\u001b[1;32m   1320\u001b[0m       return self._do_call(_run_fn, self._session, feeds, fetches, targets,\n\u001b[0;32m-> 1321\u001b[0;31m                            options, run_metadata)\n\u001b[0m\u001b[1;32m   1322\u001b[0m     \u001b[0;32melse\u001b[0m\u001b[0;34m:\u001b[0m\u001b[0;34m\u001b[0m\u001b[0m\n\u001b[1;32m   1323\u001b[0m       \u001b[0;32mreturn\u001b[0m \u001b[0mself\u001b[0m\u001b[0;34m.\u001b[0m\u001b[0m_do_call\u001b[0m\u001b[0;34m(\u001b[0m\u001b[0m_prun_fn\u001b[0m\u001b[0;34m,\u001b[0m \u001b[0mself\u001b[0m\u001b[0;34m.\u001b[0m\u001b[0m_session\u001b[0m\u001b[0;34m,\u001b[0m \u001b[0mhandle\u001b[0m\u001b[0;34m,\u001b[0m \u001b[0mfeeds\u001b[0m\u001b[0;34m,\u001b[0m \u001b[0mfetches\u001b[0m\u001b[0;34m)\u001b[0m\u001b[0;34m\u001b[0m\u001b[0m\n",
      "\u001b[0;32m/home/moksh/.local/lib/python3.5/site-packages/tensorflow/python/client/session.py\u001b[0m in \u001b[0;36m_do_call\u001b[0;34m(self, fn, *args)\u001b[0m\n\u001b[1;32m   1325\u001b[0m   \u001b[0;32mdef\u001b[0m \u001b[0m_do_call\u001b[0m\u001b[0;34m(\u001b[0m\u001b[0mself\u001b[0m\u001b[0;34m,\u001b[0m \u001b[0mfn\u001b[0m\u001b[0;34m,\u001b[0m \u001b[0;34m*\u001b[0m\u001b[0margs\u001b[0m\u001b[0;34m)\u001b[0m\u001b[0;34m:\u001b[0m\u001b[0;34m\u001b[0m\u001b[0m\n\u001b[1;32m   1326\u001b[0m     \u001b[0;32mtry\u001b[0m\u001b[0;34m:\u001b[0m\u001b[0;34m\u001b[0m\u001b[0m\n\u001b[0;32m-> 1327\u001b[0;31m       \u001b[0;32mreturn\u001b[0m \u001b[0mfn\u001b[0m\u001b[0;34m(\u001b[0m\u001b[0;34m*\u001b[0m\u001b[0margs\u001b[0m\u001b[0;34m)\u001b[0m\u001b[0;34m\u001b[0m\u001b[0m\n\u001b[0m\u001b[1;32m   1328\u001b[0m     \u001b[0;32mexcept\u001b[0m \u001b[0merrors\u001b[0m\u001b[0;34m.\u001b[0m\u001b[0mOpError\u001b[0m \u001b[0;32mas\u001b[0m \u001b[0me\u001b[0m\u001b[0;34m:\u001b[0m\u001b[0;34m\u001b[0m\u001b[0m\n\u001b[1;32m   1329\u001b[0m       \u001b[0mmessage\u001b[0m \u001b[0;34m=\u001b[0m \u001b[0mcompat\u001b[0m\u001b[0;34m.\u001b[0m\u001b[0mas_text\u001b[0m\u001b[0;34m(\u001b[0m\u001b[0me\u001b[0m\u001b[0;34m.\u001b[0m\u001b[0mmessage\u001b[0m\u001b[0;34m)\u001b[0m\u001b[0;34m\u001b[0m\u001b[0m\n",
      "\u001b[0;32m/home/moksh/.local/lib/python3.5/site-packages/tensorflow/python/client/session.py\u001b[0m in \u001b[0;36m_run_fn\u001b[0;34m(session, feed_dict, fetch_list, target_list, options, run_metadata)\u001b[0m\n\u001b[1;32m   1304\u001b[0m           return tf_session.TF_Run(session, options,\n\u001b[1;32m   1305\u001b[0m                                    \u001b[0mfeed_dict\u001b[0m\u001b[0;34m,\u001b[0m \u001b[0mfetch_list\u001b[0m\u001b[0;34m,\u001b[0m \u001b[0mtarget_list\u001b[0m\u001b[0;34m,\u001b[0m\u001b[0;34m\u001b[0m\u001b[0m\n\u001b[0;32m-> 1306\u001b[0;31m                                    status, run_metadata)\n\u001b[0m\u001b[1;32m   1307\u001b[0m \u001b[0;34m\u001b[0m\u001b[0m\n\u001b[1;32m   1308\u001b[0m     \u001b[0;32mdef\u001b[0m \u001b[0m_prun_fn\u001b[0m\u001b[0;34m(\u001b[0m\u001b[0msession\u001b[0m\u001b[0;34m,\u001b[0m \u001b[0mhandle\u001b[0m\u001b[0;34m,\u001b[0m \u001b[0mfeed_dict\u001b[0m\u001b[0;34m,\u001b[0m \u001b[0mfetch_list\u001b[0m\u001b[0;34m)\u001b[0m\u001b[0;34m:\u001b[0m\u001b[0;34m\u001b[0m\u001b[0m\n",
      "\u001b[0;31mKeyboardInterrupt\u001b[0m: "
     ]
    }
   ],
   "source": [
    "for i in range(NUM_ITERATIONS):\n",
    "    image_batch = next_batch(BATCH_SIZE)\n",
    "    sess.run(discriminator_optimize, feed_dict={Z_in: get_sample_z([BATCH_SIZE, 100]), image_in: image_batch})\n",
    "    sess.run(generator_optimize, feed_dict={Z_in: get_sample_z([BATCH_SIZE, 100])})\n",
    "    \n",
    "    disc_losses = sess.run(discriminator_loss, feed_dict={Z_in: get_sample_z([BATCH_SIZE, 100]),\n",
    "                                                          image_in: image_batch})\n",
    "    gen_losses = sess.run(generator_loss, feed_dict={Z_in: get_sample_z([BATCH_SIZE, 100])})\n",
    "    \n",
    "    if i % 1 == 0:\n",
    "        print('Step {} => Discriminator: {} | Generator: {}'.format(i, disc_losses, gen_losses))"
   ]
  },
  {
   "cell_type": "code",
   "execution_count": 13,
   "metadata": {},
   "outputs": [
    {
     "data": {
      "image/png": "[encoded data removed]",
      "text/plain": [
       "<matplotlib.figure.Figure at 0x7f9de7594630>"
      ]
     },
     "metadata": {},
     "output_type": "display_data"
    }
   ],
   "source": [
    "sample_g = generator(Z_in, 1, True)\n",
    "x = sess.run(sample_g, feed_dict={Z_in: get_sample_z([1, 100])})\n",
    "display_image(x)"
   ]
  },
  {
   "cell_type": "code",
   "execution_count": null,
   "metadata": {
    "collapsed": true
   },
   "outputs": [],
   "source": []
  }
 ],
 "metadata": {
  "kernelspec": {
   "display_name": "Python 3",
   "language": "python",
   "name": "python3"
  },
  "language_info": {
   "codemirror_mode": {
    "name": "ipython",
    "version": 3
   },
   "file_extension": ".py",
   "mimetype": "text/x-python",
   "name": "python",
   "nbconvert_exporter": "python",
   "pygments_lexer": "ipython3",
   "version": "3.5.2"
  }
 },
 "nbformat": 4,
 "nbformat_minor": 1
}
